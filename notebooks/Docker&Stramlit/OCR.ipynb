{
 "cells": [
  {
   "cell_type": "code",
   "execution_count": 16,
   "metadata": {},
   "outputs": [
    {
     "data": {
      "text/plain": [
       "';\\nSy nae ermcae pomaaE, nnaamapepesce\\n’ Nai 28s abopeoe 0\\non Ty, ]\\nin r Bee cd 29\\nep oera w ,\\nOrpercrne Wi Ok. ‘one a.\\nwownme Ab LbgOL\\nCOruaror 9 manrinn oun nam, sor\\n\\nTa [en tare | ie | a [Kom [ em | Sa\\n\\n3 2 rs = nes | wae\\nSapearel wml | S50 [052020 | vm ei | coo [oss zHer | race | wos |\\nSapa roTe| nin ay | _e00 [26062020 | nwa(Ge) | 600 [ceczz0z2| wwacea | eee |\\nee pay e00 | 26702070 | ra Gn) | oon [ozo 2022 | wae | 600\\nfarcrzore| rman) | 000 [16.11.2020 ova) SS Soe\\nfozr2.20%9| ewntée) | 600 qaeaiet | amaieay | eo [tora | nonce | e07 |\\nae ep [aronanar | nnva(oe) | 000 | oneaoce | wate | ee |\\n[7.032020] nnva\\\\ser | 600 75057021] nwa(Ga) | 600 | ¥oeaoas | wait) | 002 _|\\n[raoszoz0] vase) | 600 [voor 2nzi | nace) | oo 7057023 | ovate) | _600_\\\\\\nee area) [600 | teme2071 | enaicey | 08 _\\\\eworaszs| mone} =)\\n10.07.2020] nna a) | 600 saa | wate) | 62 aa as\\nemer Any tra 2 0727, oncom Hn\\n\\n2\\n24\\n'"
      ]
     },
     "execution_count": 16,
     "metadata": {},
     "output_type": "execute_result"
    }
   ],
   "source": [
    "import cv2 \n",
    "import pytesseract\n",
    "\n",
    "img = cv2.imread('./405/JPG/141899.jpg')\n",
    "\n",
    "# Adding custom options\n",
    "custom_config = r'--oem 3 --psm 6'\n",
    "pytesseract.image_to_string(img, config=custom_config)"
   ]
  },
  {
   "cell_type": "code",
   "execution_count": 8,
   "metadata": {},
   "outputs": [],
   "source": [
    "pytesseract.pytesseract.tesseract_cmd = r'C:\\Users\\USER\\AppData\\Local\\Tesseract-OCR\\tesseract.exe'"
   ]
  },
  {
   "cell_type": "code",
   "execution_count": 2,
   "metadata": {},
   "outputs": [],
   "source": [
    "import numpy as np\n",
    "\n",
    "img = cv2.imread('./405/JPG/141899.jpg')\n",
    "\n",
    "# get grayscale image\n",
    "def get_grayscale(image):\n",
    "    return cv2.cvtColor(image, cv2.COLOR_BGR2GRAY)"
   ]
  },
  {
   "cell_type": "code",
   "execution_count": 14,
   "metadata": {},
   "outputs": [
    {
     "data": {
      "text/plain": [
       "-1"
      ]
     },
     "execution_count": 14,
     "metadata": {},
     "output_type": "execute_result"
    }
   ],
   "source": [
    "import cv2 \n",
    "import pytesseract\n",
    "\n",
    "img = cv2.imread('./405/JPG/256578.jpg')\n",
    "\n",
    "h, w, c = img.shape\n",
    "boxes = pytesseract.image_to_boxes(img) \n",
    "for b in boxes.splitlines():\n",
    "    b = b.split(' ')\n",
    "    img = cv2.rectangle(img, (int(b[1]), h - int(b[2])), (int(b[3]), h - int(b[4])), (0, 255, 0), 2)\n",
    "\n",
    "cv2.imshow('img', img)\n",
    "cv2.waitKey(0)"
   ]
  },
  {
   "cell_type": "code",
   "execution_count": 13,
   "metadata": {},
   "outputs": [
    {
     "data": {
      "text/plain": [
       "-1"
      ]
     },
     "execution_count": 13,
     "metadata": {},
     "output_type": "execute_result"
    }
   ],
   "source": [
    "import re\n",
    "import cv2\n",
    "import pytesseract\n",
    "from pytesseract import Output\n",
    "\n",
    "img = cv2.imread('./405/JPG/141899.jpg')\n",
    "d = pytesseract.image_to_data(img, output_type=Output.DICT)\n",
    "keys = list(d.keys())\n",
    "\n",
    "date_pattern = '^(0[1-9]|[12][0-9]|3[01])/(0[1-9]|1[012])/(19|20)\\d\\d$'\n",
    "\n",
    "n_boxes = len(d['text'])\n",
    "for i in range(n_boxes):\n",
    "    if int(d['conf'][i]) > 60:\n",
    "    \tif re.match(date_pattern, d['text'][i]):\n",
    "\t        (x, y, w, h) = (d['left'][i], d['top'][i], d['width'][i], d['height'][i])\n",
    "\t        img = cv2.rectangle(img, (x, y), (x + w, y + h), (0, 255, 0), 2)\n",
    "\n",
    "cv2.imshow('img', img)\n",
    "cv2.waitKey(0)"
   ]
  },
  {
   "cell_type": "code",
   "execution_count": 19,
   "metadata": {},
   "outputs": [
    {
     "name": "stdout",
     "output_type": "stream",
     "text": [
      "Дата\n",
      "\n",
      "т\n",
      "215662019 | жд (68) 105582020 | п 68)\n",
      "\n",
      "[29082019 | плуд(6е) \"26062020 | пуд (6)\n",
      "\n",
      "30092018] ииуд (68) 26102020 | пд а)\n",
      "\n",
      "От 11.2019 | пп (68) 61112020 [ ауд)\n",
      "\n",
      "[0292-2019] пм (69), 23032021 | плд(68) | 800\n",
      "\n",
      "[20.01.2020] пуд (68) 60 [61062521 | пмд(68) | 6% лм 9) |\n",
      "27032020[ пм (6) 25062021 [пд (68) |600 в) |\n",
      "13052020] ппу (68) 19072021 | пмд (в) | 8%\n",
      "\n",
      "052020 [ плул(68) | 1908 ре 160\n",
      "\n",
      "0.07.2020 | плйд (68) 302621 | плуд(6е) |__60.\n",
      "\n",
      "стана 2023 тов 072\n",
      "\n",
      "\n"
     ]
    }
   ],
   "source": [
    "import pytesseract\n",
    "import cv2\n",
    "import matplotlib.pyplot as plt\n",
    "from PIL import Image\n",
    "\n",
    "image = cv2.imread(\"./405/JPG/141899.jpg\")\n",
    "\n",
    "string = pytesseract.image_to_string(image,lang='rus')\n",
    "\n",
    "print(string)"
   ]
  }
 ],
 "metadata": {
  "kernelspec": {
   "display_name": "Python 3",
   "language": "python",
   "name": "python3"
  },
  "language_info": {
   "codemirror_mode": {
    "name": "ipython",
    "version": 3
   },
   "file_extension": ".py",
   "mimetype": "text/x-python",
   "name": "python",
   "nbconvert_exporter": "python",
   "pygments_lexer": "ipython3",
   "version": "3.10.4"
  },
  "orig_nbformat": 4
 },
 "nbformat": 4,
 "nbformat_minor": 2
}
